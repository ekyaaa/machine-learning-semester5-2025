{
  "nbformat": 4,
  "nbformat_minor": 0,
  "metadata": {
    "colab": {
      "provenance": [],
      "authorship_tag": "ABX9TyMmykba0l5OzG4JfNmS6ejg",
      "include_colab_link": true
    },
    "kernelspec": {
      "name": "python3",
      "display_name": "Python 3"
    },
    "language_info": {
      "name": "python"
    }
  },
  "cells": [
    {
      "cell_type": "markdown",
      "metadata": {
        "id": "view-in-github",
        "colab_type": "text"
      },
      "source": [
        "<a href=\"https://colab.research.google.com/github/ekyaaa/machine-learning-semester5-2025/blob/main/TG1_2341720111_Ekya_Muhammad.ipynb\" target=\"_parent\"><img src=\"https://colab.research.google.com/assets/colab-badge.svg\" alt=\"Open In Colab\"/></a>"
      ]
    },
    {
      "cell_type": "code",
      "execution_count": null,
      "metadata": {
        "colab": {
          "base_uri": "https://localhost:8080/"
        },
        "id": "G8dxjfYTDaSs",
        "outputId": "0e1cd024-8a3c-4771-f605-032420d08cbe"
      },
      "outputs": [
        {
          "output_type": "stream",
          "name": "stdout",
          "text": [
            "Collecting pyprep\n",
            "  Downloading pyprep-0.5.0-py3-none-any.whl.metadata (7.3 kB)\n",
            "Requirement already satisfied: scipy in /usr/local/lib/python3.12/dist-packages (1.16.1)\n",
            "Requirement already satisfied: wandb in /usr/local/lib/python3.12/dist-packages (0.21.3)\n",
            "Collecting wfdb==4.1.2\n",
            "  Downloading wfdb-4.1.2-py3-none-any.whl.metadata (4.3 kB)\n",
            "Collecting pyECG\n",
            "  Downloading pyECG-0.0.9.1-py2.py3-none-any.whl.metadata (3.1 kB)\n",
            "Downloading wfdb-4.1.2-py3-none-any.whl (159 kB)\n",
            "\u001b[2K   \u001b[90m━━━━━━━━━━━━━━━━━━━━━━━━━━━━━━━━━━━━━━━━\u001b[0m \u001b[32m160.0/160.0 kB\u001b[0m \u001b[31m12.8 MB/s\u001b[0m eta \u001b[36m0:00:00\u001b[0m\n",
            "\u001b[?25hDownloading pyprep-0.5.0-py3-none-any.whl (34 kB)\n",
            "Downloading pyECG-0.0.9.1-py2.py3-none-any.whl (14 kB)\n",
            "Installing collected packages: pyECG, wfdb, pyprep\n",
            "Successfully installed pyECG-0.0.9.1 pyprep-0.5.0 wfdb-4.1.2\n"
          ]
        }
      ],
      "source": [
        "!pip install pyprep scipy wandb wfdb==4.1.2 pyECG --no-deps"
      ]
    },
    {
      "cell_type": "markdown",
      "source": [
        "# **Bagian 1**\n",
        "\n",
        "1. PyPREP\n",
        "\n",
        "Fungsi: Library untuk preprocessing sinyal EEG (Electroencephalography).\n",
        "\n",
        "Kegunaan utama:\n",
        "\n",
        "- Membersihkan noise dari sinyal otak.\n",
        "\n",
        "- Menghilangkan artefak seperti kedipan mata, gerakan otot, atau gangguan listrik.\n",
        "\n",
        "- Implementasi dari PREP pipeline yang dipakai di penelitian neuroimaging.\n",
        "\n",
        "2. SciPy\n",
        "\n",
        "Fungsi: Library scientific computing berbasis Python.\n",
        "\n",
        "Kegunaan utama:\n",
        "\n",
        "- Operasi matematika tingkat lanjut: integrasi, optimisasi, statistik, aljabar linear.\n",
        "\n",
        "- Pemrosesan sinyal: filtering, transformasi Fourier, analisis spektrum.\n",
        "\n",
        "- Sering dipakai bersama NumPy, Pandas, dan Matplotlib.\n",
        "\n",
        "3. Weights & Biases (wandb)\n",
        "\n",
        "Fungsi: Platform untuk experiment tracking dan ML workflow management.\n",
        "\n",
        "Kegunaan utama:\n",
        "\n",
        "- Mencatat hasil training model (loss, akurasi, grafik).\n",
        "\n",
        "- Menyimpan dan membandingkan percobaan ML.\n",
        "\n",
        "- Sinkronisasi eksperimen ke dashboard online (https://wandb.ai\n",
        ").\n",
        "\n",
        "Sangat berguna kalau kamu melatih model ML untuk sinyal EEG/ECG agar hasil eksperimen terdokumentasi rapi.\n",
        "\n",
        "4. pyECG\n",
        "\n",
        "Fungsi: Library Python untuk pemrosesan sinyal ECG (Electrocardiography).\n",
        "\n",
        "Kegunaan utama:\n",
        "\n",
        "- Membaca, menampilkan, dan menganalisis sinyal ECG.\n",
        "\n",
        "- Deteksi puncak R (R-peaks) → dipakai untuk menghitung HRV (Heart Rate Variability).\n",
        "\n",
        "- Kompatibel dengan format data medis (ISHNE Holter, WFDB).\n",
        "\n",
        "Relevan di bidang kesehatan dan penelitian medis, khususnya analisis sinyal jantung"
      ],
      "metadata": {
        "id": "uwseGJ37EMDs"
      }
    },
    {
      "cell_type": "markdown",
      "source": [
        "# **BAGIAN 2**\n",
        "\n",
        "1. Contoh Tindakan Melanggar Etika dan Hukum dalam Penggunaan AI\n",
        "a. Deepfake untuk Penipuan atau Pornografi Tanpa Izin. <br>\n",
        "Kasus: Menggunakan AI untuk membuat video deepfake seseorang tanpa persetujuan, lalu menyebarkannya untuk merusak reputasi atau pemerasan. <br>\n",
        "Aspek Etika: Melanggar privasi, manipulatif, merugikan individu. <br>\n",
        "Aspek Hukum: Banyak negara (misalnya Uni Eropa, AS, dan Indonesia lewat UU ITE) mengatur larangan penyebaran konten palsu yang merugikan orang lain. <br>\n",
        "Chesney, R., & Citron, D. (2019). Deep Fakes: A Looming Challenge for Privacy, Democracy, and National Security. California Law Review.\n",
        "\n",
        "\n",
        "2. Dampak Energi dan Lingkungan dari Pemanfaatan AI <br>\n",
        "a. Dampak Negatif <br>\n",
        "Konsumsi energi besar: Melatih model AI skala besar (misalnya GPT, BERT) membutuhkan pusat data dengan ribuan GPU/TPU → memakan listrik sangat tinggi. <br>\n",
        "Emisi karbon: Studi Strubell et al. (2019) menunjukkan melatih satu model NLP besar bisa menghasilkan emisi karbon setara dengan 5 kali perjalanan hidup rata-rata sebuah mobil.<br>\n",
        "Dampak lingkungan tidak langsung: Pusat data membutuhkan pendingin intensif → konsumsi air dan sumber daya.<br><br>\n",
        "b. Cara Mengatasinya (Pendapat & Solusi) <br>\n",
        "Optimisasi model: Gunakan teknik model compression, knowledge distillation, atau efficient architectures (contoh: MobileBERT, DistilBERT).<br>\n",
        "Pemanfaatan energi terbarukan: Pusat data didorong untuk memakai listrik dari tenaga surya, angin, atau hidro. <br>\n",
        "Lokalisasi dan efisiensi penggunaan: Alih-alih selalu melatih dari nol, manfaatkan pre-trained models dan transfer learning. <br>\n",
        "Regulasi dan transparansi: Perusahaan AI perlu melaporkan jejak karbon dari pelatihan model (mirip konsep ESG reporting)."
      ],
      "metadata": {
        "id": "oi8iSIQxFYUk"
      }
    }
  ]
}